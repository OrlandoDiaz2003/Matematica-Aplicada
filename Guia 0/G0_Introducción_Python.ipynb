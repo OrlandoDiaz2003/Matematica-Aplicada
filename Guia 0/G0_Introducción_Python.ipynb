{
  "cells": [
    {
      "cell_type": "markdown",
      "metadata": {
        "id": "t48ZzDLtux0T"
      },
      "source": [
        "# Problema 1"
      ]
    },
    {
      "cell_type": "markdown",
      "metadata": {
        "id": "cWCfLm-fvNTx"
      },
      "source": [
        "Escribe un código que pida al usuario ingresar un número real y determine si el número ingresado es positivo, negativo o cero."
      ]
    },
    {
      "cell_type": "code",
      "execution_count": 1,
      "metadata": {},
      "outputs": [
        {
          "name": "stdout",
          "output_type": "stream",
          "text": [
            "El numero es positivo\n"
          ]
        }
      ],
      "source": [
        "numero= float(input(\"Ingrese un numero: \"))\n",
        "\n",
        "if numero > 0:\n",
        "    print(\"El numero es positivo\")\n",
        "elif numero < 0:\n",
        "    print(\"El numero es negativo\")\n",
        "else:\n",
        "    print(\"El numero es cero\")"
      ]
    },
    {
      "cell_type": "markdown",
      "metadata": {
        "id": "6civkm_Pwf1B"
      },
      "source": [
        "# Problema 2"
      ]
    },
    {
      "cell_type": "markdown",
      "metadata": {
        "id": "rjeAxtJ4x9h6"
      },
      "source": [
        "Escribe un código que pida al usuario ingresar un número entero y que determine si el número ingresado es par o impar.\n"
      ]
    },
    {
      "cell_type": "code",
      "execution_count": 3,
      "metadata": {},
      "outputs": [
        {
          "name": "stdout",
          "output_type": "stream",
          "text": [
            "el numero es impar\n"
          ]
        }
      ],
      "source": [
        "num_entero=int(input(\"Ingrese un numero: \"))\n",
        "\n",
        "resto = num_entero % 2\n",
        "\n",
        "if resto == 0:\n",
        "    print(\"el numero es par\")\n",
        "else:\n",
        "    print(\"el numero es impar\")"
      ]
    },
    {
      "cell_type": "markdown",
      "metadata": {
        "id": "rLA34mTgxuSf"
      },
      "source": [
        "# Problema 3"
      ]
    },
    {
      "cell_type": "markdown",
      "metadata": {
        "id": "6E3zFuZSwigv"
      },
      "source": [
        "Escribe un código que, mediante un ciclo *while*, sume los primeros $100$ números naturales."
      ]
    },
    {
      "cell_type": "code",
      "execution_count": 4,
      "metadata": {},
      "outputs": [
        {
          "name": "stdout",
          "output_type": "stream",
          "text": [
            "la suma de los primeros 100 numeros naturales es: 5050\n"
          ]
        }
      ],
      "source": [
        "suma = 0\n",
        "contador = 0\n",
        "\n",
        "while contador != 100:\n",
        "    contador += 1\n",
        "    suma += contador\n",
        "print(f\"la suma de los primeros 100 numeros naturales es: {suma}\")\n"
      ]
    },
    {
      "cell_type": "markdown",
      "metadata": {
        "id": "pZpuARSKz4zw"
      },
      "source": [
        "# Problema 4"
      ]
    },
    {
      "cell_type": "markdown",
      "metadata": {
        "id": "SxGOLjlnz6y_"
      },
      "source": [
        "Escribe un código que almacene en una variable el *string* \"Contraseña\". Luego, el programa debe solicitar al usuario \"Introducir contraseña\", hasta que la palabra ingresada sea correcta. <sup><a href=\"#footnote1\" id=\"ref1\">1</a></sup>\n",
        "\n",
        "\n",
        "<p id=\"footnote1\"><sup>1</sup> String: Tipo de dato que almacena texto."
      ]
    },
    {
      "cell_type": "code",
      "execution_count": null,
      "metadata": {},
      "outputs": [],
      "source": [
        "password = \"Contraseña\"\n",
        "userpass= \"\"\n",
        "while userpass != password:\n",
        "    userpass = input(\"Ingrese su contraseña: \")\n",
        "    if userpass != password:\n",
        "        print(\"Contraseña incorrecta\")\n",
        "\n",
        "print(\"Contraseña correcta\")"
      ]
    },
    {
      "cell_type": "markdown",
      "metadata": {
        "id": "bXAO6t1V1psK"
      },
      "source": [
        "# Problema 5"
      ]
    },
    {
      "cell_type": "markdown",
      "metadata": {
        "id": "nXwlwVHI11wC"
      },
      "source": [
        "Escribe un código que, utilizando un ciclo *for*, pida al usuario ingresar un número entero y muestre la tabla de multiplicar desde el 1 al 12 de dicho número."
      ]
    },
    {
      "cell_type": "code",
      "execution_count": 11,
      "metadata": {},
      "outputs": [
        {
          "name": "stdout",
          "output_type": "stream",
          "text": [
            "7 X 1 = 7\n",
            "7 X 2 = 14\n",
            "7 X 3 = 21\n",
            "7 X 4 = 28\n",
            "7 X 5 = 35\n",
            "7 X 6 = 42\n",
            "7 X 7 = 49\n",
            "7 X 8 = 56\n",
            "7 X 9 = 63\n",
            "7 X 10 = 70\n",
            "7 X 11 = 77\n",
            "7 X 12 = 84\n"
          ]
        }
      ],
      "source": [
        "num_entero = int(input(\"Ingrese un numero: \"))\n",
        "\n",
        "for i in range (1, 13):\n",
        "    print(f\"{num_entero} X {i} = {num_entero*i}\")"
      ]
    },
    {
      "cell_type": "markdown",
      "metadata": {
        "id": "UroIuMyFCKax"
      },
      "source": [
        "# Problema 6"
      ]
    },
    {
      "cell_type": "markdown",
      "metadata": {
        "id": "VoiJyh0zCMzX"
      },
      "source": [
        "1. Escribe una función que reciba dos números y retorne el producto de los números recibidos.\n",
        "1. Escribe una nueva función que tome el producto calculado en el ítem anterior y redondee el valor al entero.\n",
        "1. Pide al usuario que ingrese dos números, y utiliza ambas funciones para imprimir el valor de la multiplicación redondeado al entero."
      ]
    },
    {
      "cell_type": "code",
      "execution_count": 13,
      "metadata": {},
      "outputs": [
        {
          "name": "stdout",
          "output_type": "stream",
          "text": [
            "14\n"
          ]
        }
      ],
      "source": [
        "num_1 = float(input(\"Ingrese el primer numero: \"))\n",
        "num_2 = float(input(\"Ingrese el segundo numero: \"))\n",
        "\n",
        "mult= num_1 * num_2\n",
        "\n",
        "mult = round(mult)\n",
        "\n",
        "print(mult)"
      ]
    },
    {
      "cell_type": "markdown",
      "metadata": {
        "id": "GHMOEBgQDvUw"
      },
      "source": [
        "# Problema 7"
      ]
    },
    {
      "cell_type": "markdown",
      "metadata": {
        "id": "I77oq5plD50H"
      },
      "source": [
        "La fórmula que permite convertir los grados Celsius a Fahrenheit es la siguiente:\n",
        "\n",
        "$$ F = \\frac{9}{5} C + 32$$\n",
        "\n",
        "1. Crea una función que permita realizar esta conversión.\n",
        "1. Luego, pide al usuario que ingrese la temperatura en grados Celsius y utiliza la función para calcular su equivalente en grados Fahrenheit.\n",
        "1. Imprime el resultado redondeado a la centésima."
      ]
    },
    {
      "cell_type": "code",
      "execution_count": 15,
      "metadata": {},
      "outputs": [
        {
          "name": "stdout",
          "output_type": "stream",
          "text": [
            "176.0\n"
          ]
        }
      ],
      "source": [
        "temp= float(input(\"Ingrese la temperatura en grados celsius: \"))\n",
        "\n",
        "fahre= (9/5 * temp) + 32\n",
        "\n",
        "print(fahre)"
      ]
    },
    {
      "cell_type": "markdown",
      "metadata": {
        "id": "yC4Sju1KGQFn"
      },
      "source": [
        "# Problema 8"
      ]
    },
    {
      "cell_type": "markdown",
      "metadata": {
        "id": "Qw6j4zbSG0NH"
      },
      "source": [
        "1. Escribe un código que importe el módulo *random* y utiliza la función *randint()* para generar diez números aleatorios entre $1$ y $100$, y almacénalos en una lista.\n",
        "1. Imprime en pantalla la lista con los diez números generados.\n",
        "1. Utiliza la indexación en *Python* para acceder al segundo y sexto elemento de la lista. Ten en cuenta que en *Python* los índices comienzan en $0$. ¿Cómo imprimirías estos elementos?"
      ]
    },
    {
      "cell_type": "code",
      "execution_count": 21,
      "metadata": {},
      "outputs": [
        {
          "name": "stdout",
          "output_type": "stream",
          "text": [
            "[86, 37, 2, 37, 19, 53, 50, 42, 94, 83]\n",
            "37\n",
            "53\n"
          ]
        }
      ],
      "source": [
        "import random \n",
        "\n",
        "lista=[]\n",
        "for i in range(10):\n",
        "    num_al = random.randint(1, 100)\n",
        "    lista.append(num_al)\n",
        "print(lista)\n",
        "\n",
        "print(lista[1])\n",
        "print(lista[5])"
      ]
    },
    {
      "cell_type": "markdown",
      "metadata": {
        "id": "qlwdqEfzHrL_"
      },
      "source": [
        "# Problema 9"
      ]
    },
    {
      "cell_type": "markdown",
      "metadata": {
        "id": "iqH0iITmJH-P"
      },
      "source": [
        "El Índice de Masa Corporal (IMC) es una medida que se utiliza para evaluar si una persona se encuentra en un peso saludable con respecto a su estatura. La fórmula para calcular esta medida es:\n",
        "\n",
        "<br>\n",
        "\n",
        "$$ \\textrm{IMC} = \\frac{\\textrm{peso} \\ \\ (\\textrm{kg})}{(\\textrm{altura} \\ \\ (\\textrm{m}))^{2}}$$\n",
        "\n",
        "<br>\n",
        "\n",
        "El valor obtenido con el IMC, de acuerdo con la Organización Mundial de la Salud (OMS) indica si la persona tiene un peso bajo, normal, sobrepeso u obesidad. La clasificación es la siguiente:\n",
        "\n",
        "<br>\n",
        "\n",
        "* Bajo peso: IMC menor a $18,5 \\ \\  \\textrm{kg/m}^{2}$\n",
        "* Peso normal: IMC entre $18,5 \\ \\ \\textrm{kg/m}^{2}$ y $24,9 \\ \\ \\textrm{kg/m}^{2}$\n",
        "* Sobrepeso: IMC entre $25 \\ \\ \\textrm{kg/m}^{2}$ y $29,9 \\ \\ \\textrm{kg/m}^{2}$\n",
        "* Obesidad: IMC de $30 \\ \\ \\textrm{kg/m}^{2}$ o mayor\n",
        "\n",
        "<br>\n",
        "\n",
        "Aunque el IMC es una forma eficaz de evaluar el peso, no tiene en cuenta factores como la distribución de grasa, la masa muscular y otros rasgos de la salud física.\n",
        "\n",
        "<br>\n",
        "\n",
        "1. Considerando la información entregada, implementa un código que permita calcular mediante una función, el valor del IMC de una persona. Luego, solicita al usuario valores de masa y altura e indica, mediante el uso de condicionales, la categoría de la persona según el IMC calculado.\n",
        "1. Considera la siguiente tabla de valores, que muestra el peso y el IMC de once estudiantes. Guarda los valores del IMC en una lista e imprime en pantalla los estudiantes que, según el criterio de la OMS, están en **bajo peso**. Además, para cada IMC que esté en bajo peso, índica también el índice en la lista donde se encuentra.\n",
        "\n",
        "<p><center>\n",
        "\n",
        "| N°      | Peso $(\\textrm{kg})$ | IMC $(\\textrm{kg/m}^{2})$|\n",
        "|---------|----------------------|--------------------------|\n",
        "|$$ 1 $$  | $$29,5 $$            | $$16,43$$                |\n",
        "|$$ 2 $$  | $$37,3 $$            | $$19,31$$                |\n",
        "|$$ 3 $$  | $$38   $$            | $$10,25$$                |\n",
        "|$$ 4 $$  | $$31   $$            | $$18,63$$                |\n",
        "|$$ 5 $$  | $$36   $$            | $$17,85$$                |\n",
        "|$$ 6 $$  | $$40,4 $$            | $$19,76$$                |\n",
        "|$$ 7 $$  | $$47   $$            | $$23,64$$                |\n",
        "|$$ 8 $$  | $$43   $$            | $$21,94$$                |\n",
        "|$$ 9 $$  | $$36   $$            | $$21,3 $$                |\n",
        "|$$ 10$$  | $$40,1 $$            | $$22,67$$                |\n",
        "|$$ 11$$  | $$27   $$            | $$16,48$$                |\n",
        "\n",
        "</center></p>\n",
        "\n"
      ]
    },
    {
      "cell_type": "code",
      "execution_count": 1,
      "metadata": {},
      "outputs": [
        {
          "name": "stdout",
          "output_type": "stream",
          "text": [
            "Sobrepeso IMC: 28.41\n",
            "Lista de estudiantes con bajo peso\n",
            "0 IMC: 16.43\n",
            "2 IMC: 10.25\n",
            "4 IMC: 17.85\n",
            "10 IMC: 16.48\n"
          ]
        }
      ],
      "source": [
        "altura = float(input(\"Ingrese su estatura en metros: \"))\n",
        "peso = float(input(\"Ingrese tu peso en kg: \"))\n",
        "\n",
        "lista_imc=[16.43, 19.31, 10.25, 18.63, 17.85, 19.76, 23.64, 21.94, 21.3, 22.67, 16.48]\n",
        "\n",
        "imc = peso / altura**2\n",
        "imc = round(imc, 2)\n",
        "\n",
        "if imc < 18.5:\n",
        "    print(f\"Bajo peso IMC: {imc}\")\n",
        "\n",
        "elif 18.5 <= imc < 24.9:\n",
        "    print(f\"Peso normal IMC: {imc}\")\n",
        "\n",
        "elif 25 <= imc <29.9:\n",
        "    print(f\"Sobrepeso IMC: {imc}\")\n",
        "\n",
        "else:\n",
        "    print(f\"Obesidad IMC: {imc}\")\n",
        "\n",
        "print(\"Lista de estudiantes con bajo peso\")\n",
        "for i, datos in enumerate(lista_imc):\n",
        "    if datos < 18.5:\n",
        "        print(f\"{i} IMC: {datos}\")"
      ]
    }
  ],
  "metadata": {
    "colab": {
      "provenance": [],
      "toc_visible": true
    },
    "kernelspec": {
      "display_name": "Python 3",
      "name": "python3"
    },
    "language_info": {
      "codemirror_mode": {
        "name": "ipython",
        "version": 3
      },
      "file_extension": ".py",
      "mimetype": "text/x-python",
      "name": "python",
      "nbconvert_exporter": "python",
      "pygments_lexer": "ipython3",
      "version": "3.12.2"
    }
  },
  "nbformat": 4,
  "nbformat_minor": 0
}
